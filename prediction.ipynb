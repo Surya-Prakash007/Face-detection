{
 "cells": [
  {
   "cell_type": "code",
   "execution_count": 1,
   "metadata": {},
   "outputs": [],
   "source": [
    "import tensorflow as tf"
   ]
  },
  {
   "cell_type": "code",
   "execution_count": 2,
   "metadata": {},
   "outputs": [],
   "source": [
    "from tensorflow.keras.models import load_model"
   ]
  },
  {
   "cell_type": "code",
   "execution_count": 3,
   "metadata": {},
   "outputs": [
    {
     "name": "stdout",
     "output_type": "stream",
     "text": [
      "WARNING:tensorflow:No training configuration found in the save file, so the model was *not* compiled. Compile it manually.\n"
     ]
    }
   ],
   "source": [
    "facetracker = load_model('facetrackerSurya50.h5')"
   ]
  },
  {
   "cell_type": "code",
   "execution_count": 6,
   "metadata": {},
   "outputs": [],
   "source": [
    "import cv2\n",
    "import numpy as np"
   ]
  },
  {
   "cell_type": "code",
   "execution_count": null,
   "metadata": {},
   "outputs": [],
   "source": []
  },
  {
   "cell_type": "code",
   "execution_count": 8,
   "metadata": {},
   "outputs": [
    {
     "name": "stdout",
     "output_type": "stream",
     "text": [
      "1/1 [==============================] - 0s 111ms/step\n",
      "[[0.99991393]]\n",
      "1/1 [==============================] - 0s 99ms/step\n",
      "[[0.99977016]]\n",
      "1/1 [==============================] - 0s 98ms/step\n",
      "[[0.999678]]\n",
      "1/1 [==============================] - 0s 119ms/step\n",
      "[[0.9998894]]\n",
      "1/1 [==============================] - 0s 98ms/step\n",
      "[[0.9999291]]\n",
      "1/1 [==============================] - 0s 101ms/step\n",
      "[[0.9998235]]\n",
      "1/1 [==============================] - 0s 95ms/step\n",
      "[[0.9999268]]\n",
      "1/1 [==============================] - 0s 95ms/step\n",
      "[[0.99981934]]\n",
      "1/1 [==============================] - 0s 108ms/step\n",
      "[[0.9998335]]\n",
      "1/1 [==============================] - 0s 103ms/step\n",
      "[[0.9997396]]\n",
      "1/1 [==============================] - 0s 97ms/step\n",
      "[[0.9999744]]\n",
      "1/1 [==============================] - 0s 104ms/step\n",
      "[[0.99998903]]\n",
      "1/1 [==============================] - 0s 99ms/step\n",
      "[[0.99999815]]\n",
      "1/1 [==============================] - 0s 92ms/step\n",
      "[[0.9999989]]\n",
      "1/1 [==============================] - 0s 96ms/step\n",
      "[[0.9999991]]\n",
      "1/1 [==============================] - 0s 96ms/step\n",
      "[[0.99999845]]\n",
      "1/1 [==============================] - 0s 97ms/step\n",
      "[[0.99999404]]\n",
      "1/1 [==============================] - 0s 92ms/step\n",
      "[[0.9999471]]\n"
     ]
    }
   ],
   "source": [
    "import cv2\n",
    "cap = cv2.VideoCapture(0)\n",
    "while cap.isOpened():\n",
    "    _ , frame = cap.read()\n",
    "    frame = frame[50:500, 50:500 ,:]\n",
    "    \n",
    "    rgb = cv2.cvtColor(frame , cv2.COLOR_BGR2RGB)\n",
    "    resized = tf.image.resize(rgb , (120 , 120))\n",
    "    \n",
    "    ypred = facetracker.predict(np.expand_dims(resized/255 , 0))\n",
    "    sample_coords = ypred[1][0]\n",
    "    \n",
    "    if ypred[0] > 0.9:\n",
    "        cv2.rectangle(frame,\n",
    "                     tuple(np.multiply(sample_coords[:2],[450,450]).astype(int)),\n",
    "                     tuple(np.multiply(sample_coords[2:],[450 ,450]).astype(int)),\n",
    "                     (255,0,0),2)\n",
    "        cv2.rectangle(frame,\n",
    "                     tuple(np.add(np.multiply(sample_coords[:2],[450,450]).astype(int),\n",
    "                                 [0,-30])),\n",
    "                     tuple(np.add(np.multiply(sample_coords[:2],[450 ,450]).astype(int),\n",
    "                                 [80,0])),\n",
    "                     (255,0,0), -1)\n",
    "        cv2.putText(frame,'face',tuple(np.add(np.multiply(sample_coords[:2],[450,450]).astype(int),\n",
    "                                             [0,-5])),\n",
    "                    cv2.FONT_HERSHEY_SIMPLEX,1,(255,255,255),2,cv2.LINE_AA)\n",
    "        print(ypred[0])\n",
    "    cv2.imshow('Facetrack',frame)\n",
    "    \n",
    "    if cv2.waitKey(1) & 0xFF== ord('q'):\n",
    "        break\n",
    "        \n",
    "cap.release()\n",
    "cv2.destroyAllWindows()\n",
    "        "
   ]
  },
  {
   "cell_type": "code",
   "execution_count": null,
   "metadata": {},
   "outputs": [],
   "source": []
  }
 ],
 "metadata": {
  "kernelspec": {
   "display_name": "base1",
   "language": "python",
   "name": "python3"
  },
  "language_info": {
   "codemirror_mode": {
    "name": "ipython",
    "version": 3
   },
   "file_extension": ".py",
   "mimetype": "text/x-python",
   "name": "python",
   "nbconvert_exporter": "python",
   "pygments_lexer": "ipython3",
   "version": "3.8.16"
  },
  "orig_nbformat": 4
 },
 "nbformat": 4,
 "nbformat_minor": 2
}
